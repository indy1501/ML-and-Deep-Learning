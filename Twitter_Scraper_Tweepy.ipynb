{
  "nbformat": 4,
  "nbformat_minor": 0,
  "metadata": {
    "colab": {
      "name": "Twitter_Scraper_Tweepy.ipynb",
      "provenance": [],
      "collapsed_sections": [],
      "toc_visible": true,
      "include_colab_link": true
    },
    "kernelspec": {
      "name": "python3",
      "display_name": "Python 3"
    }
  },
  "cells": [
    {
      "cell_type": "markdown",
      "metadata": {
        "id": "view-in-github",
        "colab_type": "text"
      },
      "source": [
        "<a href=\"https://colab.research.google.com/github/indy1501/ML-and-Deep-Learning/blob/main/Twitter_Scraper_Tweepy.ipynb\" target=\"_parent\"><img src=\"https://colab.research.google.com/assets/colab-badge.svg\" alt=\"Open In Colab\"/></a>"
      ]
    },
    {
      "cell_type": "code",
      "metadata": {
        "id": "UF_o-bnAxoTb"
      },
      "source": [
        "import tweepy\n",
        "from tweepy import OAuthHandler\n",
        "import pandas as pd\n",
        "import requests\n",
        "from io import BytesIO\n",
        "import json\n",
        "from tqdm import tqdm"
      ],
      "execution_count": null,
      "outputs": []
    },
    {
      "cell_type": "markdown",
      "metadata": {
        "id": "Fa84j3pVa-Fc"
      },
      "source": [
        "### Secret"
      ]
    },
    {
      "cell_type": "code",
      "metadata": {
        "id": "7BuuI2s4xtLX"
      },
      "source": [
        "#@title Twitter Auth Details\n",
        "#@markdown Enter your twitter credentials\n",
        "\n",
        "access_token = ''  #@param {type: \"string\"}\n",
        "access_token_secret = ''  #@param {type: \"string\"}\n",
        "consumer_key = ''  #@param {type: \"string\"}\n",
        "consumer_secret = ''  #@param {type: \"string\"}\n",
        "\n"
      ],
      "execution_count": null,
      "outputs": []
    },
    {
      "cell_type": "code",
      "metadata": {
        "id": "mhZy1LBOx27k"
      },
      "source": [
        "auth = tweepy.OAuthHandler(consumer_key, consumer_secret)\n",
        "auth.set_access_token(access_token, access_token_secret)"
      ],
      "execution_count": null,
      "outputs": []
    },
    {
      "cell_type": "markdown",
      "metadata": {
        "id": "-YPKtkyWbCnn"
      },
      "source": [
        "### Code"
      ]
    },
    {
      "cell_type": "code",
      "metadata": {
        "id": "Vgaf5iYFc4T0"
      },
      "source": [
        "ds_url = 'https://docs.google.com/spreadsheets/d/e/2PACX-1vSN0YoGEIX29TLX_fCJOIMW1kDvLrQy8Rq3eceNF-S-myYy8p2tIDk41wju0OkbQHUhGaTkpJQzZh6U/pub?output=tsv'\n",
        "\n",
        "page = requests.get(ds_url)\n",
        "\n",
        "t_df = pd.read_csv(BytesIO(page.content), sep=\"\\t\")"
      ],
      "execution_count": null,
      "outputs": []
    },
    {
      "cell_type": "code",
      "metadata": {
        "id": "hMTPbnmtkhqZ"
      },
      "source": [
        "inactive_df = t_df.loc[t_df['status'] == 'deactivated-suspended']"
      ],
      "execution_count": null,
      "outputs": []
    },
    {
      "cell_type": "code",
      "metadata": {
        "id": "aRdexD6dlOep",
        "colab": {
          "base_uri": "https://localhost:8080/"
        },
        "outputId": "ad296c71-025f-46ab-9563-bf5449db56ba"
      },
      "source": [
        "inactive_df.shape"
      ],
      "execution_count": null,
      "outputs": [
        {
          "output_type": "execute_result",
          "data": {
            "text/plain": [
              "(0, 21)"
            ]
          },
          "metadata": {
            "tags": []
          },
          "execution_count": 7
        }
      ]
    },
    {
      "cell_type": "code",
      "metadata": {
        "id": "egAG34l8mXLk"
      },
      "source": [
        "m_df = t_df[t_df[\"status\"] == 'active']"
      ],
      "execution_count": null,
      "outputs": []
    },
    {
      "cell_type": "code",
      "metadata": {
        "id": "v-DYarJ7nfYZ",
        "colab": {
          "base_uri": "https://localhost:8080/"
        },
        "outputId": "30961dd1-045d-46e3-cbcb-bb27bd22b678"
      },
      "source": [
        "m_df.shape"
      ],
      "execution_count": null,
      "outputs": [
        {
          "output_type": "execute_result",
          "data": {
            "text/plain": [
              "(3288, 21)"
            ]
          },
          "metadata": {
            "tags": []
          },
          "execution_count": 10
        }
      ]
    },
    {
      "cell_type": "code",
      "metadata": {
        "id": "LjVyUmwI3sDb",
        "colab": {
          "base_uri": "https://localhost:8080/",
          "height": 1000
        },
        "outputId": "af8fe8f1-bcda-4ab8-cab8-f1acdf2e418a"
      },
      "source": [
        "m_df.head(20)"
      ],
      "execution_count": null,
      "outputs": [
        {
          "output_type": "execute_result",
          "data": {
            "text/html": [
              "<div>\n",
              "<style scoped>\n",
              "    .dataframe tbody tr th:only-of-type {\n",
              "        vertical-align: middle;\n",
              "    }\n",
              "\n",
              "    .dataframe tbody tr th {\n",
              "        vertical-align: top;\n",
              "    }\n",
              "\n",
              "    .dataframe thead th {\n",
              "        text-align: right;\n",
              "    }\n",
              "</style>\n",
              "<table border=\"1\" class=\"dataframe\">\n",
              "  <thead>\n",
              "    <tr style=\"text-align: right;\">\n",
              "      <th></th>\n",
              "      <th>item</th>\n",
              "      <th>unique_id</th>\n",
              "      <th>id</th>\n",
              "      <th>handle</th>\n",
              "      <th>name</th>\n",
              "      <th>profile_photo</th>\n",
              "      <th>cover_photo</th>\n",
              "      <th>location</th>\n",
              "      <th>tweets</th>\n",
              "      <th>following</th>\n",
              "      <th>followers</th>\n",
              "      <th>likes</th>\n",
              "      <th>created</th>\n",
              "      <th>added</th>\n",
              "      <th>status</th>\n",
              "      <th>deactivated_suspended_date</th>\n",
              "      <th>reactivated_unsuspended_date</th>\n",
              "      <th>rating</th>\n",
              "      <th>score</th>\n",
              "      <th>score_update_date</th>\n",
              "      <th>account_update_date</th>\n",
              "    </tr>\n",
              "  </thead>\n",
              "  <tbody>\n",
              "    <tr>\n",
              "      <th>0</th>\n",
              "      <td>0</td>\n",
              "      <td>1322161</td>\n",
              "      <td>3.254422e+07</td>\n",
              "      <td>missdancealot05</td>\n",
              "      <td>Judy O</td>\n",
              "      <td>https://pbs.twimg.com/profile_images/126104011...</td>\n",
              "      <td>https://abs.twimg.com/images/themes/theme10/bg...</td>\n",
              "      <td>US</td>\n",
              "      <td>8653</td>\n",
              "      <td>2885</td>\n",
              "      <td>776</td>\n",
              "      <td>13540</td>\n",
              "      <td>4/17/2009 0:00</td>\n",
              "      <td>11/1/2020 15:06</td>\n",
              "      <td>active</td>\n",
              "      <td>NaN</td>\n",
              "      <td>NaN</td>\n",
              "      <td>1</td>\n",
              "      <td>22</td>\n",
              "      <td>11/1/2020 15:06</td>\n",
              "      <td>11/1/2020 15:06</td>\n",
              "    </tr>\n",
              "    <tr>\n",
              "      <th>1</th>\n",
              "      <td>1</td>\n",
              "      <td>1322160</td>\n",
              "      <td>4.626955e+07</td>\n",
              "      <td>spudgun01</td>\n",
              "      <td>Mike Spudgun</td>\n",
              "      <td>https://pbs.twimg.com/profile_images/721107224...</td>\n",
              "      <td>https://abs.twimg.com/images/themes/theme4/bg.gif</td>\n",
              "      <td>UK</td>\n",
              "      <td>31694</td>\n",
              "      <td>2043</td>\n",
              "      <td>2379</td>\n",
              "      <td>23642</td>\n",
              "      <td>6/11/2009 0:00</td>\n",
              "      <td>11/1/2020 15:05</td>\n",
              "      <td>active</td>\n",
              "      <td>NaN</td>\n",
              "      <td>NaN</td>\n",
              "      <td>1</td>\n",
              "      <td>10</td>\n",
              "      <td>11/1/2020 15:05</td>\n",
              "      <td>11/1/2020 15:05</td>\n",
              "    </tr>\n",
              "    <tr>\n",
              "      <th>2</th>\n",
              "      <td>2</td>\n",
              "      <td>1322159</td>\n",
              "      <td>1.610000e+09</td>\n",
              "      <td>ZeErikku</td>\n",
              "      <td>Erikku Ã°ÂŸÂšÂ­</td>\n",
              "      <td>https://pbs.twimg.com/profile_images/132236799...</td>\n",
              "      <td>https://abs.twimg.com/images/themes/theme1/bg.png</td>\n",
              "      <td>Chicago, IL</td>\n",
              "      <td>10630</td>\n",
              "      <td>224</td>\n",
              "      <td>415</td>\n",
              "      <td>5964</td>\n",
              "      <td>7/20/2013 0:00</td>\n",
              "      <td>11/1/2020 15:04</td>\n",
              "      <td>active</td>\n",
              "      <td>NaN</td>\n",
              "      <td>NaN</td>\n",
              "      <td>1</td>\n",
              "      <td>12</td>\n",
              "      <td>11/1/2020 15:04</td>\n",
              "      <td>11/1/2020 15:04</td>\n",
              "    </tr>\n",
              "    <tr>\n",
              "      <th>3</th>\n",
              "      <td>3</td>\n",
              "      <td>1322158</td>\n",
              "      <td>5.093215e+07</td>\n",
              "      <td>Lord_Frosty</td>\n",
              "      <td>Lord_Frosty</td>\n",
              "      <td>https://pbs.twimg.com/profile_images/751077091...</td>\n",
              "      <td>https://abs.twimg.com/images/themes/theme2/bg.gif</td>\n",
              "      <td>Olympus Mons</td>\n",
              "      <td>22214</td>\n",
              "      <td>62</td>\n",
              "      <td>169</td>\n",
              "      <td>25178</td>\n",
              "      <td>6/26/2009 0:00</td>\n",
              "      <td>11/1/2020 15:04</td>\n",
              "      <td>active</td>\n",
              "      <td>NaN</td>\n",
              "      <td>NaN</td>\n",
              "      <td>1</td>\n",
              "      <td>6</td>\n",
              "      <td>11/1/2020 15:04</td>\n",
              "      <td>11/1/2020 15:04</td>\n",
              "    </tr>\n",
              "    <tr>\n",
              "      <th>4</th>\n",
              "      <td>4</td>\n",
              "      <td>1322156</td>\n",
              "      <td>5.750148e+07</td>\n",
              "      <td>pauljimerson</td>\n",
              "      <td>Paul Jimerson</td>\n",
              "      <td>https://pbs.twimg.com/profile_images/367607779...</td>\n",
              "      <td>https://abs.twimg.com/images/themes/theme1/bg.png</td>\n",
              "      <td>Santa Cruz, California</td>\n",
              "      <td>386771</td>\n",
              "      <td>8109</td>\n",
              "      <td>8196</td>\n",
              "      <td>83388</td>\n",
              "      <td>7/17/2009 0:00</td>\n",
              "      <td>11/1/2020 15:02</td>\n",
              "      <td>active</td>\n",
              "      <td>NaN</td>\n",
              "      <td>NaN</td>\n",
              "      <td>1</td>\n",
              "      <td>2</td>\n",
              "      <td>11/1/2020 15:02</td>\n",
              "      <td>11/1/2020 15:02</td>\n",
              "    </tr>\n",
              "    <tr>\n",
              "      <th>5</th>\n",
              "      <td>5</td>\n",
              "      <td>1322154</td>\n",
              "      <td>1.140000e+18</td>\n",
              "      <td>Outrider321</td>\n",
              "      <td>Outrider</td>\n",
              "      <td>https://pbs.twimg.com/profile_images/132234015...</td>\n",
              "      <td>https://abs.twimg.com/images/themes/theme1/bg.png</td>\n",
              "      <td>Chicago</td>\n",
              "      <td>3296</td>\n",
              "      <td>421</td>\n",
              "      <td>172</td>\n",
              "      <td>33303</td>\n",
              "      <td>6/24/2019 0:00</td>\n",
              "      <td>11/1/2020 15:01</td>\n",
              "      <td>active</td>\n",
              "      <td>NaN</td>\n",
              "      <td>NaN</td>\n",
              "      <td>1</td>\n",
              "      <td>3</td>\n",
              "      <td>11/1/2020 15:01</td>\n",
              "      <td>11/1/2020 15:01</td>\n",
              "    </tr>\n",
              "    <tr>\n",
              "      <th>6</th>\n",
              "      <td>6</td>\n",
              "      <td>1322152</td>\n",
              "      <td>1.180000e+18</td>\n",
              "      <td>meilidehuahudie</td>\n",
              "      <td>Ã§Â¾ÂŽÃ¤Â¸Â½Ã§ÂšÂ„Ã¨ÂŠÂ±Ã¨ÂÂ´Ã¨ÂÂ¶</td>\n",
              "      <td>https://pbs.twimg.com/profile_images/123347995...</td>\n",
              "      <td>NaN</td>\n",
              "      <td>NaN</td>\n",
              "      <td>7935</td>\n",
              "      <td>158</td>\n",
              "      <td>180</td>\n",
              "      <td>423</td>\n",
              "      <td>10/14/2019 0:00</td>\n",
              "      <td>11/1/2020 15:00</td>\n",
              "      <td>active</td>\n",
              "      <td>NaN</td>\n",
              "      <td>NaN</td>\n",
              "      <td>1</td>\n",
              "      <td>18</td>\n",
              "      <td>11/1/2020 15:00</td>\n",
              "      <td>11/1/2020 15:00</td>\n",
              "    </tr>\n",
              "    <tr>\n",
              "      <th>7</th>\n",
              "      <td>7</td>\n",
              "      <td>1322150</td>\n",
              "      <td>9.740000e+17</td>\n",
              "      <td>DJCookYT</td>\n",
              "      <td>DJ Cook Ã°ÂŸÂŽÂƒÃ°ÂŸÂ•Â·</td>\n",
              "      <td>https://pbs.twimg.com/profile_images/122185894...</td>\n",
              "      <td>NaN</td>\n",
              "      <td>NaN</td>\n",
              "      <td>3049</td>\n",
              "      <td>150</td>\n",
              "      <td>11085</td>\n",
              "      <td>13495</td>\n",
              "      <td>3/15/2018 0:00</td>\n",
              "      <td>11/1/2020 15:00</td>\n",
              "      <td>active</td>\n",
              "      <td>NaN</td>\n",
              "      <td>NaN</td>\n",
              "      <td>1</td>\n",
              "      <td>9</td>\n",
              "      <td>11/1/2020 15:00</td>\n",
              "      <td>11/1/2020 15:00</td>\n",
              "    </tr>\n",
              "    <tr>\n",
              "      <th>8</th>\n",
              "      <td>8</td>\n",
              "      <td>1322148</td>\n",
              "      <td>5.512578e+07</td>\n",
              "      <td>msconstrues</td>\n",
              "      <td>Patty</td>\n",
              "      <td>https://pbs.twimg.com/profile_images/131549594...</td>\n",
              "      <td>https://abs.twimg.com/images/themes/theme3/bg.gif</td>\n",
              "      <td>Michigan, USA</td>\n",
              "      <td>15947</td>\n",
              "      <td>3466</td>\n",
              "      <td>785</td>\n",
              "      <td>35990</td>\n",
              "      <td>7/9/2009 0:00</td>\n",
              "      <td>11/1/2020 14:59</td>\n",
              "      <td>active</td>\n",
              "      <td>NaN</td>\n",
              "      <td>NaN</td>\n",
              "      <td>1</td>\n",
              "      <td>7</td>\n",
              "      <td>11/1/2020 14:59</td>\n",
              "      <td>11/1/2020 14:59</td>\n",
              "    </tr>\n",
              "    <tr>\n",
              "      <th>9</th>\n",
              "      <td>9</td>\n",
              "      <td>1322147</td>\n",
              "      <td>2.540000e+09</td>\n",
              "      <td>In4Crypto</td>\n",
              "      <td>battbot</td>\n",
              "      <td>https://pbs.twimg.com/profile_images/485582627...</td>\n",
              "      <td>https://abs.twimg.com/images/themes/theme1/bg.png</td>\n",
              "      <td>NaN</td>\n",
              "      <td>4242</td>\n",
              "      <td>551</td>\n",
              "      <td>303</td>\n",
              "      <td>11464</td>\n",
              "      <td>5/31/2014 0:00</td>\n",
              "      <td>11/1/2020 14:59</td>\n",
              "      <td>active</td>\n",
              "      <td>NaN</td>\n",
              "      <td>NaN</td>\n",
              "      <td>1</td>\n",
              "      <td>18</td>\n",
              "      <td>11/1/2020 14:59</td>\n",
              "      <td>11/1/2020 14:59</td>\n",
              "    </tr>\n",
              "    <tr>\n",
              "      <th>10</th>\n",
              "      <td>10</td>\n",
              "      <td>1322146</td>\n",
              "      <td>9.710000e+08</td>\n",
              "      <td>1_panter</td>\n",
              "      <td>Augusto E. Fredes</td>\n",
              "      <td>https://pbs.twimg.com/profile_images/112302240...</td>\n",
              "      <td>https://abs.twimg.com/images/themes/theme1/bg.png</td>\n",
              "      <td>NaN</td>\n",
              "      <td>23324</td>\n",
              "      <td>218</td>\n",
              "      <td>206</td>\n",
              "      <td>10420</td>\n",
              "      <td>11/26/2012 0:00</td>\n",
              "      <td>11/1/2020 14:58</td>\n",
              "      <td>active</td>\n",
              "      <td>NaN</td>\n",
              "      <td>NaN</td>\n",
              "      <td>1</td>\n",
              "      <td>6</td>\n",
              "      <td>11/1/2020 14:58</td>\n",
              "      <td>11/1/2020 14:58</td>\n",
              "    </tr>\n",
              "    <tr>\n",
              "      <th>11</th>\n",
              "      <td>11</td>\n",
              "      <td>1322145</td>\n",
              "      <td>1.310000e+18</td>\n",
              "      <td>Davidbilingual</td>\n",
              "      <td>David Jackson</td>\n",
              "      <td>https://pbs.twimg.com/profile_images/131856910...</td>\n",
              "      <td>NaN</td>\n",
              "      <td>Cyberspace</td>\n",
              "      <td>50</td>\n",
              "      <td>30</td>\n",
              "      <td>1</td>\n",
              "      <td>5</td>\n",
              "      <td>10/4/2020 0:00</td>\n",
              "      <td>11/1/2020 14:58</td>\n",
              "      <td>active</td>\n",
              "      <td>NaN</td>\n",
              "      <td>NaN</td>\n",
              "      <td>1</td>\n",
              "      <td>8</td>\n",
              "      <td>11/1/2020 14:58</td>\n",
              "      <td>11/1/2020 14:58</td>\n",
              "    </tr>\n",
              "    <tr>\n",
              "      <th>12</th>\n",
              "      <td>12</td>\n",
              "      <td>1322144</td>\n",
              "      <td>1.280000e+18</td>\n",
              "      <td>lori2_0</td>\n",
              "      <td>Lori2.0</td>\n",
              "      <td>https://pbs.twimg.com/profile_images/131037834...</td>\n",
              "      <td>NaN</td>\n",
              "      <td>NaN</td>\n",
              "      <td>117</td>\n",
              "      <td>1795</td>\n",
              "      <td>1307</td>\n",
              "      <td>270</td>\n",
              "      <td>7/6/2020 0:00</td>\n",
              "      <td>11/1/2020 14:58</td>\n",
              "      <td>active</td>\n",
              "      <td>NaN</td>\n",
              "      <td>NaN</td>\n",
              "      <td>1</td>\n",
              "      <td>4</td>\n",
              "      <td>11/1/2020 14:58</td>\n",
              "      <td>11/1/2020 14:58</td>\n",
              "    </tr>\n",
              "    <tr>\n",
              "      <th>13</th>\n",
              "      <td>13</td>\n",
              "      <td>1322143</td>\n",
              "      <td>4.744218e+07</td>\n",
              "      <td>UndecidedArtist</td>\n",
              "      <td>Lex Ã°ÂŸÂŒÂ¹ Ã°ÂŸÂÂ³Ã¯Â¸ÂÃ¢Â€ÂÃ°ÂŸÂŒÂˆ Ã¢Âœ...</td>\n",
              "      <td>https://pbs.twimg.com/profile_images/127545786...</td>\n",
              "      <td>https://abs.twimg.com/images/themes/theme3/bg.gif</td>\n",
              "      <td>Manhattan, NY</td>\n",
              "      <td>12628</td>\n",
              "      <td>259</td>\n",
              "      <td>142</td>\n",
              "      <td>38165</td>\n",
              "      <td>6/15/2009 0:00</td>\n",
              "      <td>11/1/2020 14:58</td>\n",
              "      <td>active</td>\n",
              "      <td>NaN</td>\n",
              "      <td>NaN</td>\n",
              "      <td>1</td>\n",
              "      <td>7</td>\n",
              "      <td>11/1/2020 14:58</td>\n",
              "      <td>11/1/2020 14:58</td>\n",
              "    </tr>\n",
              "    <tr>\n",
              "      <th>14</th>\n",
              "      <td>14</td>\n",
              "      <td>1322141</td>\n",
              "      <td>3.070000e+09</td>\n",
              "      <td>anto_figuera</td>\n",
              "      <td>MarÃƒÂ­a Antonieta</td>\n",
              "      <td>https://pbs.twimg.com/profile_images/131727666...</td>\n",
              "      <td>https://abs.twimg.com/images/themes/theme1/bg.png</td>\n",
              "      <td>Caracas, Venezuela</td>\n",
              "      <td>6075</td>\n",
              "      <td>2238</td>\n",
              "      <td>297</td>\n",
              "      <td>12931</td>\n",
              "      <td>3/4/2015 0:00</td>\n",
              "      <td>11/1/2020 14:58</td>\n",
              "      <td>active</td>\n",
              "      <td>NaN</td>\n",
              "      <td>NaN</td>\n",
              "      <td>1</td>\n",
              "      <td>3</td>\n",
              "      <td>11/1/2020 14:58</td>\n",
              "      <td>11/1/2020 14:58</td>\n",
              "    </tr>\n",
              "    <tr>\n",
              "      <th>15</th>\n",
              "      <td>15</td>\n",
              "      <td>1322139</td>\n",
              "      <td>9.240000e+17</td>\n",
              "      <td>babylonpizote</td>\n",
              "      <td>@dont tell me to relax Ã°ÂŸÂŒÂÃ°ÂŸÂ‡Â¨Ã°ÂŸÂ‡Â...</td>\n",
              "      <td>https://pbs.twimg.com/profile_images/129728554...</td>\n",
              "      <td>NaN</td>\n",
              "      <td>Colorado, USA</td>\n",
              "      <td>1689</td>\n",
              "      <td>484</td>\n",
              "      <td>97</td>\n",
              "      <td>3955</td>\n",
              "      <td>10/26/2017 0:00</td>\n",
              "      <td>11/1/2020 14:57</td>\n",
              "      <td>active</td>\n",
              "      <td>NaN</td>\n",
              "      <td>NaN</td>\n",
              "      <td>1</td>\n",
              "      <td>6</td>\n",
              "      <td>11/1/2020 14:57</td>\n",
              "      <td>11/1/2020 14:57</td>\n",
              "    </tr>\n",
              "    <tr>\n",
              "      <th>16</th>\n",
              "      <td>16</td>\n",
              "      <td>1322137</td>\n",
              "      <td>3.326640e+07</td>\n",
              "      <td>objuanquenove</td>\n",
              "      <td>Juan Bobo</td>\n",
              "      <td>https://pbs.twimg.com/profile_images/123812647...</td>\n",
              "      <td>https://abs.twimg.com/images/themes/theme1/bg.png</td>\n",
              "      <td>United States</td>\n",
              "      <td>30010</td>\n",
              "      <td>536</td>\n",
              "      <td>360</td>\n",
              "      <td>21296</td>\n",
              "      <td>4/19/2009 0:00</td>\n",
              "      <td>11/1/2020 14:57</td>\n",
              "      <td>active</td>\n",
              "      <td>NaN</td>\n",
              "      <td>NaN</td>\n",
              "      <td>1</td>\n",
              "      <td>21</td>\n",
              "      <td>11/1/2020 14:57</td>\n",
              "      <td>11/1/2020 14:57</td>\n",
              "    </tr>\n",
              "    <tr>\n",
              "      <th>17</th>\n",
              "      <td>17</td>\n",
              "      <td>1322133</td>\n",
              "      <td>3.540000e+08</td>\n",
              "      <td>IvanBouvet</td>\n",
              "      <td>IvÃƒÂ¡n Bouvet</td>\n",
              "      <td>https://pbs.twimg.com/profile_images/105741707...</td>\n",
              "      <td>https://abs.twimg.com/images/themes/theme1/bg.png</td>\n",
              "      <td>Concepcion del Uruguay</td>\n",
              "      <td>6321</td>\n",
              "      <td>611</td>\n",
              "      <td>491</td>\n",
              "      <td>3651</td>\n",
              "      <td>8/13/2011 0:00</td>\n",
              "      <td>11/1/2020 14:57</td>\n",
              "      <td>active</td>\n",
              "      <td>NaN</td>\n",
              "      <td>NaN</td>\n",
              "      <td>1</td>\n",
              "      <td>23</td>\n",
              "      <td>11/1/2020 14:57</td>\n",
              "      <td>11/1/2020 14:57</td>\n",
              "    </tr>\n",
              "    <tr>\n",
              "      <th>18</th>\n",
              "      <td>18</td>\n",
              "      <td>1322132</td>\n",
              "      <td>1.850000e+08</td>\n",
              "      <td>djcuteboys</td>\n",
              "      <td>hunty</td>\n",
              "      <td>https://pbs.twimg.com/profile_images/125341281...</td>\n",
              "      <td>https://abs.twimg.com/images/themes/theme1/bg.png</td>\n",
              "      <td>Brooklyn, NY</td>\n",
              "      <td>7746</td>\n",
              "      <td>310</td>\n",
              "      <td>279</td>\n",
              "      <td>13823</td>\n",
              "      <td>8/31/2010 0:00</td>\n",
              "      <td>11/1/2020 14:56</td>\n",
              "      <td>active</td>\n",
              "      <td>NaN</td>\n",
              "      <td>NaN</td>\n",
              "      <td>1</td>\n",
              "      <td>7</td>\n",
              "      <td>11/1/2020 14:56</td>\n",
              "      <td>11/1/2020 14:56</td>\n",
              "    </tr>\n",
              "    <tr>\n",
              "      <th>19</th>\n",
              "      <td>19</td>\n",
              "      <td>1322131</td>\n",
              "      <td>3.000000e+09</td>\n",
              "      <td>DeniseFluskey</td>\n",
              "      <td>Denise Fluskey</td>\n",
              "      <td>https://abs.twimg.com/sticky/default_profile_i...</td>\n",
              "      <td>https://abs.twimg.com/images/themes/theme1/bg.png</td>\n",
              "      <td>NaN</td>\n",
              "      <td>1181</td>\n",
              "      <td>76</td>\n",
              "      <td>12</td>\n",
              "      <td>423</td>\n",
              "      <td>1/27/2015 0:00</td>\n",
              "      <td>11/1/2020 14:56</td>\n",
              "      <td>active</td>\n",
              "      <td>NaN</td>\n",
              "      <td>NaN</td>\n",
              "      <td>1</td>\n",
              "      <td>0</td>\n",
              "      <td>11/1/2020 14:56</td>\n",
              "      <td>11/1/2020 14:56</td>\n",
              "    </tr>\n",
              "  </tbody>\n",
              "</table>\n",
              "</div>"
            ],
            "text/plain": [
              "    item  unique_id            id  ... score score_update_date account_update_date\n",
              "0      0    1322161  3.254422e+07  ...    22   11/1/2020 15:06     11/1/2020 15:06\n",
              "1      1    1322160  4.626955e+07  ...    10   11/1/2020 15:05     11/1/2020 15:05\n",
              "2      2    1322159  1.610000e+09  ...    12   11/1/2020 15:04     11/1/2020 15:04\n",
              "3      3    1322158  5.093215e+07  ...     6   11/1/2020 15:04     11/1/2020 15:04\n",
              "4      4    1322156  5.750148e+07  ...     2   11/1/2020 15:02     11/1/2020 15:02\n",
              "5      5    1322154  1.140000e+18  ...     3   11/1/2020 15:01     11/1/2020 15:01\n",
              "6      6    1322152  1.180000e+18  ...    18   11/1/2020 15:00     11/1/2020 15:00\n",
              "7      7    1322150  9.740000e+17  ...     9   11/1/2020 15:00     11/1/2020 15:00\n",
              "8      8    1322148  5.512578e+07  ...     7   11/1/2020 14:59     11/1/2020 14:59\n",
              "9      9    1322147  2.540000e+09  ...    18   11/1/2020 14:59     11/1/2020 14:59\n",
              "10    10    1322146  9.710000e+08  ...     6   11/1/2020 14:58     11/1/2020 14:58\n",
              "11    11    1322145  1.310000e+18  ...     8   11/1/2020 14:58     11/1/2020 14:58\n",
              "12    12    1322144  1.280000e+18  ...     4   11/1/2020 14:58     11/1/2020 14:58\n",
              "13    13    1322143  4.744218e+07  ...     7   11/1/2020 14:58     11/1/2020 14:58\n",
              "14    14    1322141  3.070000e+09  ...     3   11/1/2020 14:58     11/1/2020 14:58\n",
              "15    15    1322139  9.240000e+17  ...     6   11/1/2020 14:57     11/1/2020 14:57\n",
              "16    16    1322137  3.326640e+07  ...    21   11/1/2020 14:57     11/1/2020 14:57\n",
              "17    17    1322133  3.540000e+08  ...    23   11/1/2020 14:57     11/1/2020 14:57\n",
              "18    18    1322132  1.850000e+08  ...     7   11/1/2020 14:56     11/1/2020 14:56\n",
              "19    19    1322131  3.000000e+09  ...     0   11/1/2020 14:56     11/1/2020 14:56\n",
              "\n",
              "[20 rows x 21 columns]"
            ]
          },
          "metadata": {
            "tags": []
          },
          "execution_count": 11
        }
      ]
    },
    {
      "cell_type": "markdown",
      "metadata": {
        "id": "Mf0DRvKVspzr"
      },
      "source": [
        "### Get Tweets"
      ]
    },
    {
      "cell_type": "code",
      "metadata": {
        "id": "01IShaaZc4ZI",
        "colab": {
          "base_uri": "https://localhost:8080/"
        },
        "outputId": "8f32b99c-c706-4ce5-dfda-88a74496628b"
      },
      "source": [
        "r_df = m_df.copy()['handle']\n",
        "\n",
        "r_df"
      ],
      "execution_count": null,
      "outputs": [
        {
          "output_type": "execute_result",
          "data": {
            "text/plain": [
              "0       missdancealot05\n",
              "1             spudgun01\n",
              "2              ZeErikku\n",
              "3           Lord_Frosty\n",
              "4          pauljimerson\n",
              "             ...       \n",
              "3283          RESleeper\n",
              "3284    GettingNaughty_\n",
              "3285     trapboibrizzl3\n",
              "3286     GettingNaughty\n",
              "3287       TerryBarnes5\n",
              "Name: handle, Length: 3288, dtype: object"
            ]
          },
          "metadata": {
            "tags": []
          },
          "execution_count": 12
        }
      ]
    },
    {
      "cell_type": "code",
      "metadata": {
        "id": "9u3oUXVcx673"
      },
      "source": [
        "api = tweepy.API(auth, wait_on_rate_limit=True, wait_on_rate_limit_notify=True)"
      ],
      "execution_count": null,
      "outputs": []
    },
    {
      "cell_type": "code",
      "metadata": {
        "id": "tuu79Pyaj495"
      },
      "source": [
        "def get_tweets(api, screen_name, count=20, since=\"2020-10-15\"):\n",
        "  tweets = []\n",
        "  for tweet in tweepy.Cursor(api.user_timeline, screen_name=screen_name, count=count, since=since, tweet_mode='extended').items(20):\n",
        "    try:\n",
        "      tweets.append(tweet._json)\n",
        "    except tweepy.TweepError as e:\n",
        "      print(e.reason)\n",
        "      continue\n",
        "    except StopIteration:\n",
        "      break\n",
        "  \n",
        "  return tweets  \n",
        "      \n"
      ],
      "execution_count": null,
      "outputs": []
    },
    {
      "cell_type": "code",
      "metadata": {
        "id": "vbHzkXYqjZNd",
        "colab": {
          "base_uri": "https://localhost:8080/"
        },
        "outputId": "7706a074-8b65-49c5-fbf6-6c444d836b1d"
      },
      "source": [
        "l_df = r_df.iloc[3200:3258]\n",
        "\n",
        "result_set = []\n",
        "\n",
        "for n in tqdm(l_df):\n",
        "  print(n)\n",
        "  result_set = [*result_set, *get_tweets(api, n)]\n",
        "\n",
        "len(result_set)\n",
        "print(\"Fetched Twitter Account Details\")"
      ],
      "execution_count": null,
      "outputs": [
        {
          "output_type": "stream",
          "text": [
            "\n",
            "  0%|          | 0/58 [00:00<?, ?it/s]\u001b[A"
          ],
          "name": "stderr"
        },
        {
          "output_type": "stream",
          "text": [
            "HadassaMarina\n"
          ],
          "name": "stdout"
        },
        {
          "output_type": "stream",
          "text": [
            "\n",
            "  2%|▏         | 1/58 [00:00<00:15,  3.57it/s]\u001b[A"
          ],
          "name": "stderr"
        },
        {
          "output_type": "stream",
          "text": [
            "Star1969\n"
          ],
          "name": "stdout"
        },
        {
          "output_type": "stream",
          "text": [
            "\n",
            "  3%|▎         | 2/58 [00:00<00:15,  3.65it/s]\u001b[A"
          ],
          "name": "stderr"
        },
        {
          "output_type": "stream",
          "text": [
            "cutator\n"
          ],
          "name": "stdout"
        },
        {
          "output_type": "stream",
          "text": [
            "\n",
            "  5%|▌         | 3/58 [00:00<00:15,  3.65it/s]\u001b[A"
          ],
          "name": "stderr"
        },
        {
          "output_type": "stream",
          "text": [
            "lm58333821\n"
          ],
          "name": "stdout"
        },
        {
          "output_type": "stream",
          "text": [
            "\n",
            "  7%|▋         | 4/58 [00:01<00:15,  3.59it/s]\u001b[A"
          ],
          "name": "stderr"
        },
        {
          "output_type": "stream",
          "text": [
            "omgreally74\n"
          ],
          "name": "stdout"
        },
        {
          "output_type": "stream",
          "text": [
            "\n",
            "  9%|▊         | 5/58 [00:01<00:15,  3.45it/s]\u001b[A"
          ],
          "name": "stderr"
        },
        {
          "output_type": "stream",
          "text": [
            "DonHenr59629978\n"
          ],
          "name": "stdout"
        },
        {
          "output_type": "stream",
          "text": [
            "\n",
            " 10%|█         | 6/58 [00:01<00:14,  3.52it/s]\u001b[A"
          ],
          "name": "stderr"
        },
        {
          "output_type": "stream",
          "text": [
            "sallyjuju23\n"
          ],
          "name": "stdout"
        },
        {
          "output_type": "stream",
          "text": [
            "\n",
            " 12%|█▏        | 7/58 [00:02<00:16,  3.12it/s]\u001b[A"
          ],
          "name": "stderr"
        },
        {
          "output_type": "stream",
          "text": [
            "Trump2020yee\n"
          ],
          "name": "stdout"
        },
        {
          "output_type": "stream",
          "text": [
            "\n",
            " 14%|█▍        | 8/58 [00:02<00:15,  3.30it/s]\u001b[A"
          ],
          "name": "stderr"
        },
        {
          "output_type": "stream",
          "text": [
            "DRL707\n"
          ],
          "name": "stdout"
        },
        {
          "output_type": "stream",
          "text": [
            "\n",
            " 16%|█▌        | 9/58 [00:02<00:14,  3.37it/s]\u001b[A"
          ],
          "name": "stderr"
        },
        {
          "output_type": "stream",
          "text": [
            "gedlauit\n"
          ],
          "name": "stdout"
        },
        {
          "output_type": "stream",
          "text": [
            "\n",
            " 17%|█▋        | 10/58 [00:02<00:13,  3.49it/s]\u001b[A"
          ],
          "name": "stderr"
        },
        {
          "output_type": "stream",
          "text": [
            "BeachBumFLa3\n"
          ],
          "name": "stdout"
        },
        {
          "output_type": "stream",
          "text": [
            "\n",
            " 19%|█▉        | 11/58 [00:03<00:13,  3.58it/s]\u001b[A"
          ],
          "name": "stderr"
        },
        {
          "output_type": "stream",
          "text": [
            "StephenBishop2A\n"
          ],
          "name": "stdout"
        },
        {
          "output_type": "stream",
          "text": [
            "\n",
            " 21%|██        | 12/58 [00:03<00:14,  3.13it/s]\u001b[A"
          ],
          "name": "stderr"
        },
        {
          "output_type": "stream",
          "text": [
            "RealityGigabyte\n"
          ],
          "name": "stdout"
        },
        {
          "output_type": "stream",
          "text": [
            "\n",
            " 22%|██▏       | 13/58 [00:03<00:14,  3.09it/s]\u001b[A"
          ],
          "name": "stderr"
        },
        {
          "output_type": "stream",
          "text": [
            "bonneau29431\n"
          ],
          "name": "stdout"
        },
        {
          "output_type": "stream",
          "text": [
            "\n",
            " 24%|██▍       | 14/58 [00:04<00:13,  3.30it/s]\u001b[A"
          ],
          "name": "stderr"
        },
        {
          "output_type": "stream",
          "text": [
            "NwhxDaJbEwHU9y7\n"
          ],
          "name": "stdout"
        },
        {
          "output_type": "stream",
          "text": [
            "\n",
            " 26%|██▌       | 15/58 [00:04<00:13,  3.09it/s]\u001b[A"
          ],
          "name": "stderr"
        },
        {
          "output_type": "stream",
          "text": [
            "Niena36200915\n"
          ],
          "name": "stdout"
        },
        {
          "output_type": "stream",
          "text": [
            "\n",
            " 28%|██▊       | 16/58 [00:05<00:16,  2.62it/s]\u001b[A"
          ],
          "name": "stderr"
        },
        {
          "output_type": "stream",
          "text": [
            "TAyellowjeep\n"
          ],
          "name": "stdout"
        },
        {
          "output_type": "stream",
          "text": [
            "\n",
            " 29%|██▉       | 17/58 [00:05<00:14,  2.85it/s]\u001b[A"
          ],
          "name": "stderr"
        },
        {
          "output_type": "stream",
          "text": [
            "davidjesus_slz\n"
          ],
          "name": "stdout"
        },
        {
          "output_type": "stream",
          "text": [
            "\n",
            " 31%|███       | 18/58 [00:05<00:12,  3.11it/s]\u001b[A"
          ],
          "name": "stderr"
        },
        {
          "output_type": "stream",
          "text": [
            "trishbonn\n"
          ],
          "name": "stdout"
        },
        {
          "output_type": "stream",
          "text": [
            "\n",
            " 33%|███▎      | 19/58 [00:05<00:11,  3.31it/s]\u001b[A"
          ],
          "name": "stderr"
        },
        {
          "output_type": "stream",
          "text": [
            "josecarloskin\n"
          ],
          "name": "stdout"
        },
        {
          "output_type": "stream",
          "text": [
            "\n",
            " 34%|███▍      | 20/58 [00:06<00:10,  3.46it/s]\u001b[A"
          ],
          "name": "stderr"
        },
        {
          "output_type": "stream",
          "text": [
            "VniaBarcellos6\n"
          ],
          "name": "stdout"
        },
        {
          "output_type": "stream",
          "text": [
            "\n",
            " 36%|███▌      | 21/58 [00:06<00:10,  3.37it/s]\u001b[A"
          ],
          "name": "stderr"
        },
        {
          "output_type": "stream",
          "text": [
            "Rick24189161\n"
          ],
          "name": "stdout"
        },
        {
          "output_type": "stream",
          "text": [
            "\n",
            " 38%|███▊      | 22/58 [00:06<00:10,  3.48it/s]\u001b[A"
          ],
          "name": "stderr"
        },
        {
          "output_type": "stream",
          "text": [
            "TruePatriot_693\n"
          ],
          "name": "stdout"
        },
        {
          "output_type": "stream",
          "text": [
            "\n",
            " 40%|███▉      | 23/58 [00:06<00:10,  3.48it/s]\u001b[A"
          ],
          "name": "stderr"
        },
        {
          "output_type": "stream",
          "text": [
            "MikeMahoney808\n"
          ],
          "name": "stdout"
        },
        {
          "output_type": "stream",
          "text": [
            "\n",
            " 41%|████▏     | 24/58 [00:07<00:09,  3.54it/s]\u001b[A"
          ],
          "name": "stderr"
        },
        {
          "output_type": "stream",
          "text": [
            "chriswilk123\n"
          ],
          "name": "stdout"
        },
        {
          "output_type": "stream",
          "text": [
            "\n",
            " 43%|████▎     | 25/58 [00:07<00:11,  2.98it/s]\u001b[A"
          ],
          "name": "stderr"
        },
        {
          "output_type": "stream",
          "text": [
            "scotty_wise\n"
          ],
          "name": "stdout"
        },
        {
          "output_type": "stream",
          "text": [
            "\n",
            " 45%|████▍     | 26/58 [00:07<00:10,  3.17it/s]\u001b[A"
          ],
          "name": "stderr"
        },
        {
          "output_type": "stream",
          "text": [
            "silvio_andrade_\n"
          ],
          "name": "stdout"
        },
        {
          "output_type": "stream",
          "text": [
            "\n",
            " 47%|████▋     | 27/58 [00:08<00:10,  3.08it/s]\u001b[A"
          ],
          "name": "stderr"
        },
        {
          "output_type": "stream",
          "text": [
            "DespacitoJoeyB\n"
          ],
          "name": "stdout"
        },
        {
          "output_type": "stream",
          "text": [
            "\n",
            " 48%|████▊     | 28/58 [00:08<00:09,  3.27it/s]\u001b[A"
          ],
          "name": "stderr"
        },
        {
          "output_type": "stream",
          "text": [
            "NDIRISH1964\n"
          ],
          "name": "stdout"
        },
        {
          "output_type": "stream",
          "text": [
            "\n",
            " 50%|█████     | 29/58 [00:08<00:09,  3.09it/s]\u001b[A"
          ],
          "name": "stderr"
        },
        {
          "output_type": "stream",
          "text": [
            "Mary33059859\n"
          ],
          "name": "stdout"
        },
        {
          "output_type": "stream",
          "text": [
            "\n",
            " 52%|█████▏    | 30/58 [00:09<00:08,  3.15it/s]\u001b[A"
          ],
          "name": "stderr"
        },
        {
          "output_type": "stream",
          "text": [
            "StanDar04559462\n"
          ],
          "name": "stdout"
        },
        {
          "output_type": "stream",
          "text": [
            "\n",
            " 53%|█████▎    | 31/58 [00:09<00:08,  3.35it/s]\u001b[A"
          ],
          "name": "stderr"
        },
        {
          "output_type": "stream",
          "text": [
            "Earthbound21st\n"
          ],
          "name": "stdout"
        },
        {
          "output_type": "stream",
          "text": [
            "\n",
            " 55%|█████▌    | 32/58 [00:09<00:07,  3.38it/s]\u001b[A"
          ],
          "name": "stderr"
        },
        {
          "output_type": "stream",
          "text": [
            "DanaDossey\n"
          ],
          "name": "stdout"
        },
        {
          "output_type": "stream",
          "text": [
            "\n",
            " 57%|█████▋    | 33/58 [00:10<00:07,  3.36it/s]\u001b[A"
          ],
          "name": "stderr"
        },
        {
          "output_type": "stream",
          "text": [
            "Fnun3z1\n"
          ],
          "name": "stdout"
        },
        {
          "output_type": "stream",
          "text": [
            "\n",
            " 59%|█████▊    | 34/58 [00:10<00:07,  3.36it/s]\u001b[A"
          ],
          "name": "stderr"
        },
        {
          "output_type": "stream",
          "text": [
            "Rogerio22035458\n"
          ],
          "name": "stdout"
        },
        {
          "output_type": "stream",
          "text": [
            "\n",
            " 60%|██████    | 35/58 [00:10<00:06,  3.36it/s]\u001b[A"
          ],
          "name": "stderr"
        },
        {
          "output_type": "stream",
          "text": [
            "mrrobot5000\n"
          ],
          "name": "stdout"
        },
        {
          "output_type": "stream",
          "text": [
            "\n",
            " 62%|██████▏   | 36/58 [00:10<00:06,  3.49it/s]\u001b[A"
          ],
          "name": "stderr"
        },
        {
          "output_type": "stream",
          "text": [
            "Buckleddown\n"
          ],
          "name": "stdout"
        },
        {
          "output_type": "stream",
          "text": [
            "\n",
            " 64%|██████▍   | 37/58 [00:11<00:06,  3.40it/s]\u001b[A"
          ],
          "name": "stderr"
        },
        {
          "output_type": "stream",
          "text": [
            "petecomrie\n"
          ],
          "name": "stdout"
        },
        {
          "output_type": "stream",
          "text": [
            "\n",
            " 66%|██████▌   | 38/58 [00:11<00:05,  3.46it/s]\u001b[A"
          ],
          "name": "stderr"
        },
        {
          "output_type": "stream",
          "text": [
            "Tuneman95229385\n"
          ],
          "name": "stdout"
        },
        {
          "output_type": "stream",
          "text": [
            "\n",
            " 67%|██████▋   | 39/58 [00:11<00:05,  3.47it/s]\u001b[A"
          ],
          "name": "stderr"
        },
        {
          "output_type": "stream",
          "text": [
            "ToddKellerman1\n"
          ],
          "name": "stdout"
        },
        {
          "output_type": "stream",
          "text": [
            "\n",
            " 69%|██████▉   | 40/58 [00:12<00:05,  3.59it/s]\u001b[A"
          ],
          "name": "stderr"
        },
        {
          "output_type": "stream",
          "text": [
            "D4R3Y80\n"
          ],
          "name": "stdout"
        },
        {
          "output_type": "stream",
          "text": [
            "\n",
            " 71%|███████   | 41/58 [00:12<00:04,  3.68it/s]\u001b[A"
          ],
          "name": "stderr"
        },
        {
          "output_type": "stream",
          "text": [
            "Blessed76248\n"
          ],
          "name": "stdout"
        },
        {
          "output_type": "stream",
          "text": [
            "\n",
            " 72%|███████▏  | 42/58 [00:12<00:05,  3.14it/s]\u001b[A"
          ],
          "name": "stderr"
        },
        {
          "output_type": "stream",
          "text": [
            "bubba35289271\n"
          ],
          "name": "stdout"
        },
        {
          "output_type": "stream",
          "text": [
            "\n",
            " 74%|███████▍  | 43/58 [00:13<00:04,  3.32it/s]\u001b[A"
          ],
          "name": "stderr"
        },
        {
          "output_type": "stream",
          "text": [
            "bigmthstrkagn\n"
          ],
          "name": "stdout"
        },
        {
          "output_type": "stream",
          "text": [
            "\n",
            " 76%|███████▌  | 44/58 [00:13<00:04,  3.31it/s]\u001b[A"
          ],
          "name": "stderr"
        },
        {
          "output_type": "stream",
          "text": [
            "Fishman2001us\n"
          ],
          "name": "stdout"
        },
        {
          "output_type": "stream",
          "text": [
            "\n",
            " 78%|███████▊  | 45/58 [00:13<00:03,  3.26it/s]\u001b[A"
          ],
          "name": "stderr"
        },
        {
          "output_type": "stream",
          "text": [
            "GrandMarquis13\n"
          ],
          "name": "stdout"
        },
        {
          "output_type": "stream",
          "text": [
            "\n",
            " 79%|███████▉  | 46/58 [00:13<00:03,  3.44it/s]\u001b[A"
          ],
          "name": "stderr"
        },
        {
          "output_type": "stream",
          "text": [
            "jillybeanjil\n"
          ],
          "name": "stdout"
        },
        {
          "output_type": "stream",
          "text": [
            "\n",
            " 81%|████████  | 47/58 [00:14<00:03,  3.39it/s]\u001b[A"
          ],
          "name": "stderr"
        },
        {
          "output_type": "stream",
          "text": [
            "FitzmonsterE\n"
          ],
          "name": "stdout"
        },
        {
          "output_type": "stream",
          "text": [
            "\n",
            " 83%|████████▎ | 48/58 [00:14<00:02,  3.39it/s]\u001b[A"
          ],
          "name": "stderr"
        },
        {
          "output_type": "stream",
          "text": [
            "UnspokenMaster\n"
          ],
          "name": "stdout"
        },
        {
          "output_type": "stream",
          "text": [
            "\n",
            " 84%|████████▍ | 49/58 [00:15<00:03,  2.73it/s]\u001b[A"
          ],
          "name": "stderr"
        },
        {
          "output_type": "stream",
          "text": [
            "TAGASAING\n"
          ],
          "name": "stdout"
        },
        {
          "output_type": "stream",
          "text": [
            "\n",
            " 86%|████████▌ | 50/58 [00:15<00:02,  3.00it/s]\u001b[A"
          ],
          "name": "stderr"
        },
        {
          "output_type": "stream",
          "text": [
            "road2goat\n"
          ],
          "name": "stdout"
        },
        {
          "output_type": "stream",
          "text": [
            "\n",
            " 88%|████████▊ | 51/58 [00:15<00:02,  3.18it/s]\u001b[A"
          ],
          "name": "stderr"
        },
        {
          "output_type": "stream",
          "text": [
            "D_A_G_Chaos\n"
          ],
          "name": "stdout"
        },
        {
          "output_type": "stream",
          "text": [
            "\n",
            " 90%|████████▉ | 52/58 [00:15<00:01,  3.19it/s]\u001b[A"
          ],
          "name": "stderr"
        },
        {
          "output_type": "stream",
          "text": [
            "MilesHooks10\n"
          ],
          "name": "stdout"
        },
        {
          "output_type": "stream",
          "text": [
            "\n",
            " 91%|█████████▏| 53/58 [00:16<00:01,  3.05it/s]\u001b[A"
          ],
          "name": "stderr"
        },
        {
          "output_type": "stream",
          "text": [
            "ellemc20\n"
          ],
          "name": "stdout"
        },
        {
          "output_type": "stream",
          "text": [
            "\n",
            " 93%|█████████▎| 54/58 [00:16<00:01,  3.16it/s]\u001b[A"
          ],
          "name": "stderr"
        },
        {
          "output_type": "stream",
          "text": [
            "Burnetcs88\n"
          ],
          "name": "stdout"
        },
        {
          "output_type": "stream",
          "text": [
            "\n",
            " 95%|█████████▍| 55/58 [00:16<00:00,  3.23it/s]\u001b[A"
          ],
          "name": "stderr"
        },
        {
          "output_type": "stream",
          "text": [
            "St3am3dSpagh3t\n"
          ],
          "name": "stdout"
        },
        {
          "output_type": "stream",
          "text": [
            "\n",
            " 97%|█████████▋| 56/58 [00:17<00:00,  3.23it/s]\u001b[A"
          ],
          "name": "stderr"
        },
        {
          "output_type": "stream",
          "text": [
            "KaraDemetropou1\n"
          ],
          "name": "stdout"
        },
        {
          "output_type": "stream",
          "text": [
            "\n",
            " 98%|█████████▊| 57/58 [00:17<00:00,  3.35it/s]\u001b[A"
          ],
          "name": "stderr"
        },
        {
          "output_type": "stream",
          "text": [
            "forall50\n"
          ],
          "name": "stdout"
        },
        {
          "output_type": "stream",
          "text": [
            "\n",
            "100%|██████████| 58/58 [00:17<00:00,  3.29it/s]"
          ],
          "name": "stderr"
        },
        {
          "output_type": "stream",
          "text": [
            "Fetched Twitter Account Details\n"
          ],
          "name": "stdout"
        },
        {
          "output_type": "stream",
          "text": [
            "\n"
          ],
          "name": "stderr"
        }
      ]
    },
    {
      "cell_type": "code",
      "metadata": {
        "id": "dFtg11N-nqLc"
      },
      "source": [
        "rs_df = pd.DataFrame(result_set)\n",
        "\n",
        "rs_df.to_csv(\"tweet_data_23.csv\")"
      ],
      "execution_count": null,
      "outputs": []
    }
  ]
}